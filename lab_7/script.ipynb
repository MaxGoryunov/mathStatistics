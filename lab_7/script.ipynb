{
 "cells": [
  {
   "cell_type": "code",
   "execution_count": 1,
   "metadata": {},
   "outputs": [],
   "source": [
    "import numpy as np\n",
    "import scipy as sp\n",
    "import matplotlib.pyplot as plt"
   ]
  },
  {
   "cell_type": "code",
   "execution_count": 64,
   "metadata": {},
   "outputs": [],
   "source": [
    "ns = np.array([20, 100])\n",
    "distributions = {\n",
    "  'Normal': [np.random.normal(loc=0, scale=1, size=n) for n in ns],\n",
    "  'Student\\'s t': [np.random.standard_t(df=10, size=n) for n in ns],\n",
    "  'Uniform': [np.random.uniform(low=-1, high=1, size=n) for n in ns],\n",
    "}"
   ]
  },
  {
   "cell_type": "code",
   "execution_count": 65,
   "metadata": {},
   "outputs": [],
   "source": [
    "\n",
    "Ps = {\n",
    "  'Normal': {\n",
    "    5: [3, 4, 6, 4, 3],\n",
    "    8: [14, 10, 12, 14, 14, 12, 10, 14]\n",
    "  },\n",
    "  'Student\\'s t': {\n",
    "    5: [4, 5, 5, 3, 3],\n",
    "    8: [20, 7, 8, 9, 10, 9, 8, 29]\n",
    "  },\n",
    "  'Uniform': {\n",
    "    5: [0, 6, 7, 7, 0],\n",
    "    8: [0, 14, 18, 18, 18, 18, 14, 0]\n",
    "  },\n",
    "}"
   ]
  },
  {
   "cell_type": "code",
   "execution_count": 66,
   "metadata": {},
   "outputs": [],
   "source": [
    "bounds = {\n",
    "  5: [-1.1, -0.367, 0.367, 1.1],\n",
    "  8: [-1.1, -0.733, 0.367, 0]\n",
    "}"
   ]
  },
  {
   "cell_type": "code",
   "execution_count": 67,
   "metadata": {},
   "outputs": [],
   "source": [
    "batches = {\n",
    "  'Normal': sp.stats.norm,\n",
    "  'Student\\'s t': sp.stats.t,\n",
    "  'Uniform': sp.stats.uniform\n",
    "}"
   ]
  },
  {
   "cell_type": "code",
   "execution_count": 68,
   "metadata": {},
   "outputs": [],
   "source": [
    "def chi2_test(data, bins, dist_name='Normal', alpha=0.05):\n",
    "  observed_values, _ = np.histogram(data, bins=bins)\n",
    "  edges = np.histogram_bin_edges(data, bins=bins)\n",
    "  #print(edges)\n",
    "  Fxs = batches[dist_name].cdf(edges)\n",
    "  Fxs[0] = 0\n",
    "  Fxs[-1] = 1\n",
    "  #print(Fxs)\n",
    "  Pis = Fxs - np.roll(Fxs, 1)\n",
    "  # print(Pis)\n",
    "  exp_values = [round(len(data) * pi) for pi in Pis[1:]]\n",
    "  P_vals = Pis[1:]\n",
    "  diff = abs(np.sum(observed_values) - sum(exp_values))\n",
    "  obs_sum = np.sum(observed_values)\n",
    "  exp_sum = sum(exp_values)\n",
    "  #print(obs_sum, exp_sum)\n",
    "  #print(\"diff = \", diff)\n",
    "  if (sum(exp_values) != len(data)):\n",
    "    for i in range(0, len(exp_values)):\n",
    "      if (observed_values[i] != exp_values[i]):\n",
    "        if (observed_values[i] < exp_values[i] and obs_sum < exp_sum):\n",
    "          observed_values[i] = observed_values[i] + diff\n",
    "          break\n",
    "        elif (observed_values[i] > exp_values[i] and obs_sum > exp_sum):\n",
    "          exp_values[i] = exp_values[i] + diff\n",
    "          break\n",
    "  #print(observed_values)\n",
    "  #print(exp_values)\n",
    "  # print(np.sum(observed_values), sum(exp_values))\n",
    "  # expected_values = [len(data)/bins] * bins\n",
    "  expected_values = Ps[dist_name][bins]\n",
    "  chi2, p_val = sp.stats.chisquare(f_obs=observed_values, f_exp=exp_values)\n",
    "  \n",
    "  chi2_c = 0\n",
    "  for i in range(len(P_vals)):\n",
    "    chi2_c = chi2_c + ((observed_values[i] - len(data) * P_vals[i]) ** 2) / (len(data) * P_vals[i])\n",
    "  chi2_critical = sp.stats.chi2.ppf(q = 1 - alpha, df = bins - 1)\n",
    "\n",
    "  return chi2_c, p_val, chi2_critical"
   ]
  },
  {
   "cell_type": "code",
   "execution_count": 69,
   "metadata": {},
   "outputs": [
    {
     "name": "stdout",
     "output_type": "stream",
     "text": [
      "\n",
      "Distribution: Normal, n=20\n",
      "Chi-squared: 3.792180331468197, chi2-critical: 9.487729036781154\n",
      "Do not reject null hypothesis, data follows the expected distribution\n",
      "\n",
      "Distribution: Normal, n=100\n",
      "Chi-squared: 9.818978679343038, chi2-critical: 14.067140449340167\n",
      "Do not reject null hypothesis, data follows the expected distribution\n",
      "\n",
      "Distribution: Student's t, n=20\n",
      "Chi-squared: 8.977658365681485, chi2-critical: 9.487729036781154\n",
      "Do not reject null hypothesis, data follows the expected distribution\n",
      "\n",
      "Distribution: Student's t, n=100\n",
      "Chi-squared: 9.542928288352147, chi2-critical: 14.067140449340167\n",
      "Do not reject null hypothesis, data follows the expected distribution\n",
      "\n",
      "Distribution: Uniform, n=20\n",
      "Chi-squared: 4.760333627552156, chi2-critical: 9.487729036781154\n",
      "Do not reject null hypothesis, data follows the expected distribution\n",
      "\n",
      "Distribution: Uniform, n=100\n",
      "Chi-squared: 14.89576874374985, chi2-critical: 14.067140449340167\n",
      "Reject null hypothesis, data does not follow the expected distribution\n"
     ]
    }
   ],
   "source": [
    "alpha = 0.05\n",
    "bins = 10\n",
    "\n",
    "for dist_name, datasets in distributions.items():\n",
    "  for i, data in enumerate(datasets):\n",
    "    if (len(data) == 20):\n",
    "      bins = 5\n",
    "    else:\n",
    "      bins = 8\n",
    "    chi2, p_val, chi2_critical = chi2_test(data, bins)\n",
    "    print(f\"\\nDistribution: {dist_name}, n={ns[i]}\")\n",
    "    print(f\"Chi-squared: {chi2}, chi2-critical: {chi2_critical}\")\n",
    "    if chi2 < chi2_critical:\n",
    "      print(f\"Do not reject null hypothesis, data follows the expected distribution\")\n",
    "    else:\n",
    "      print(f\"Reject null hypothesis, data does not follow the expected distribution\")"
   ]
  }
 ],
 "metadata": {
  "kernelspec": {
   "display_name": "Python 3",
   "language": "python",
   "name": "python3"
  },
  "language_info": {
   "codemirror_mode": {
    "name": "ipython",
    "version": 3
   },
   "file_extension": ".py",
   "mimetype": "text/x-python",
   "name": "python",
   "nbconvert_exporter": "python",
   "pygments_lexer": "ipython3",
   "version": "3.10.5"
  }
 },
 "nbformat": 4,
 "nbformat_minor": 2
}
